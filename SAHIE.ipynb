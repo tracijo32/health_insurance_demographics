{
 "cells": [
  {
   "cell_type": "markdown",
   "metadata": {},
   "source": [
    "# Small Area Health Insurance Estimates (SAHIE) using the American Community Survey (ACS)\n",
    "\n",
    "Data are available through the United States Census Bureau website.\n",
    "\n",
    "https://www.census.gov/data/datasets/time-series/demo/sahie/estimates-acs.html\n",
    "\n",
    "I have downloaded each data set from 2008-2015. The data are all clean and have the same format, so there is not a lot of tidying up we have to do. They are in zipped CSV files, so we can easily read them in to Pandas and concatenate them. It takes about 2 minutes to read all the data."
   ]
  },
  {
   "cell_type": "code",
   "execution_count": 9,
   "metadata": {
    "collapsed": true
   },
   "outputs": [],
   "source": [
    "import pandas as pd\n",
    "import numpy as np"
   ]
  },
  {
   "cell_type": "code",
   "execution_count": 10,
   "metadata": {
    "collapsed": true
   },
   "outputs": [],
   "source": [
    "def read_data(years=[2008+i for i in range(8)]):\n",
    "    frames = []\n",
    "    for y in years:\n",
    "        frames.append(pd.read_csv('data_files/sahie-{}-csv.zip'.format(y),\n",
    "                                sep='\\s*,\\s*',skiprows=79,na_values='.',engine='python'))\n",
    "        \n",
    "    return pd.concat(frames)\n",
    "data = read_data()"
   ]
  },
  {
   "cell_type": "markdown",
   "metadata": {},
   "source": [
    "#### From the CSV file\n",
    "File Layout and Definitions: \n",
    " \n",
    "    Variable      Format      Description     \n",
    "       year            4      Year of Estimate\n",
    "       version         8      Release Version \n",
    "                                 Blank   : YEAR other than 2013, Only Version   \n",
    "                                 Original: 2013 only, Original Version          \n",
    "                                 Updated : 2013 only, Updated Version (May 2016)\n",
    "       statefips       2      Unique FIPS code for each state                   \n",
    "       countyfips      3      Unique FIPS code for each county within a state   \n",
    "       geocat          2      Geography category             \n",
    "                                40 - State geographic identifier \n",
    "                                50 - County geographic identifier\n",
    "       agecat          1      Age category        \n",
    "                                0 - Under 65 years\n",
    "                                1 - 18 to 64 years\n",
    "                                2 - 40 to 64 years\n",
    "                                3 - 50 to 64 years\n",
    "                                4 - Under 19 years\n",
    "                                5 - 21 to 64 years\n",
    "       racecat         1      Race category  \n",
    "                                0 - All races\n",
    "                                Only state estimates have racecat=1,2,3 values\n",
    "                                1 - White alone, not Hispanic\n",
    "                                2 - Black alone, not Hispanic\n",
    "                                3 - Hispanic (any race)      \n",
    "       sexcat          1      Sex category    \n",
    "                                0 - Both sexes\n",
    "                                1 - Male      \n",
    "                                2 - Female    \n",
    "       iprcat          1      Income category \n",
    "                                0 - All income levels          \n",
    "                                1 - At or below 200% of poverty\n",
    "                                2 - At or below 250% of poverty\n",
    "                                3 - At or below 138% of poverty\n",
    "                                4 - At or below 400% of poverty\n",
    "                                5 - Between 138% - 400%  of poverty\n",
    "      NIPR             8      Number in demographic group for <income category>\n",
    "         nipr_moe      8           MOE  for NIPR\n",
    "      NUI              8      Number uninsured  \n",
    "         nui_moe       8           MOE  for NUI \n",
    "      NIC              8      Number insured    \n",
    "         nic_moe       8           MOE  for NIC \n",
    "      PCTUI            5.1    Percent uninsured in demographic group for <income category>\n",
    "         pctui_moe     5.1         MOE  for PCTUI                                 \n",
    "      PCTIC            5.1    Percent insured in demographic group for <income category>  \n",
    "         pctic_moe     5.1         MOE  for PCTIC                                 \n",
    "      PCTELIG          5.1    Percent uninsured in demographic group for all income levels\n",
    "         pctelig_moe   5.1         MOE  for PCTELIG                                \n",
    "      PCTLIIC          5.1    Percent insured in demographic group for all income levels  \n",
    "         pctliic_moe   5.1         MOE  for PCTLIIC                                \n",
    "      state_name       70     State Name\n",
    "      county_name      45     County Name\n",
    " \n",
    "  PRIMARY KEY: year version statefips countyfips agecat racecat sexcat iprcat         \n",
    " \n",
    "  Note 1:  A margin of error (MOE) is the difference between an estimate and its upper\n",
    "  or lower confidence bounds. Confidence bounds can be created by adding the margin   \n",
    "  of error to the estimate (for an upper bound) and subtracting the margin of error   \n",
    "  from the estimate (for a lower bound). All published margins of error for the Small \n",
    "  Area Health Insurance Estimates program are based on a 90 percent confidence level. \n",
    " \n",
    "  Note 2:  The number in a demographic group is the number of people in the poverty   \n",
    "  universe in that age, sex, and race/Hispanic origin group.                          \n",
    " \n",
    "  Note 3:  Values for Kalawao, HI (15-005) should be considered N/A or missing.       \n",
    " \n",
    "  Note 4:  MOEs of zero should be assumed to be <1 for counts and <0.1 for percentages.\n",
    " \n",
    "  General Note:  Details may not sum to totals because of rounding."
   ]
  },
  {
   "cell_type": "markdown",
   "metadata": {},
   "source": [
    "## Geographical visualization of health care coverage\n",
    "\n",
    "I want to make a map of the US with all the counties color-coded by coverage (i.e., percentage of population who are uninsured). This data set is really nice because it contains all the information for the entire population of a county as well as a break down of certain demographics (sex,race,age,income,etc.). Better yet, we can make it an animated GIF flipping through year."
   ]
  },
  {
   "cell_type": "markdown",
   "metadata": {},
   "source": [
    "Let's start by writing a function that will query the data in a way such that it produces a data frame with only one value for each county."
   ]
  },
  {
   "cell_type": "code",
   "execution_count": 11,
   "metadata": {
    "collapsed": true
   },
   "outputs": [],
   "source": [
    "def query_data(data,age=0,race=0,sex=0,income=0,year=2015):\n",
    "    query = data[(data['geocat'] == 50) & (data['year'] == year) & (data['agecat'] == age) & \n",
    "              (data['racecat'] == race) & (data['sexcat'] == sex) & (data['iprcat'] == income)]\n",
    "    return query"
   ]
  },
  {
   "cell_type": "markdown",
   "metadata": {},
   "source": [
    "Now to plot these counties. I downloaded the Basemap toolkit for ```matplotlib``` located at https://github.com/matplotlib/basemap so we can draw the entire US and the outlines of its counties. I borrowed some code used to color the county map for the 2016 US election from http://shallowsky.com/blog/programming/plotting-election-data-basemap.html and repurposed it for this data set."
   ]
  },
  {
   "cell_type": "code",
   "execution_count": 12,
   "metadata": {
    "collapsed": true
   },
   "outputs": [],
   "source": [
    "from mpl_toolkits.basemap import Basemap\n",
    "from matplotlib.patches import Polygon\n",
    "from matplotlib.colors import Normalize\n",
    "from matplotlib.colorbar import ColorbarBase"
   ]
  },
  {
   "cell_type": "code",
   "execution_count": 13,
   "metadata": {
    "collapsed": true
   },
   "outputs": [],
   "source": [
    "def plot_map(latrange,lonrange,ax,resolution='c',projection='tmerc'):\n",
    "    lllat = latrange[0]\n",
    "    urlat = latrange[1]\n",
    "    centerlat = np.mean(latrange)\n",
    "    lllon = lonrange[0]\n",
    "    urlon = lonrange[1]\n",
    "    centerlon = np.mean(lonrange)\n",
    "    m = Basemap(resolution=resolution,  # crude, low, intermediate, high, full\n",
    "            llcrnrlon = lllon, urcrnrlon = urlon,\n",
    "            lon_0 = centerlon,\n",
    "            llcrnrlat = lllat, urcrnrlat = urlat,\n",
    "            lat_0 = centerlat,\n",
    "            projection=projection,ax=ax)\n",
    "    \n",
    "    shp_info = m.readshapefile('shape_files/st99_d00', 'states',\n",
    "                           drawbounds=True, color='lightgrey')\n",
    "    \n",
    "    shp_info = m.readshapefile('shape_files/cb_2015_us_county_500k',\n",
    "                           'counties',\n",
    "                           drawbounds=True)\n",
    "\n",
    "    return m"
   ]
  },
  {
   "cell_type": "markdown",
   "metadata": {},
   "source": [
    "Finally, now we can combine the Basemap drawing with the data from SAHIE. We'll color-code each county by the percentage of people who are uninsured (```PCTUI```)."
   ]
  },
  {
   "cell_type": "code",
   "execution_count": 14,
   "metadata": {
    "collapsed": true
   },
   "outputs": [],
   "source": [
    "def color_counties(data,m,ax,mak=None,axak=None,mha=None,axha=None,norm='auto',cmap=plt.cm.viridis):\n",
    "    if norm == 'auto':\n",
    "        maxval = data['PCTUI'].max()\n",
    "    else:\n",
    "        maxval = norm\n",
    "    for i, county in enumerate(m.counties_info):\n",
    "        sfp = int(county['STATEFP'])\n",
    "        cfp = int(county['COUNTYFP'])\n",
    "        query = data['PCTUI'][(data['statefips'] == sfp) & (data['countyfips'] == cfp)]\n",
    "        if query.size == 0:\n",
    "            ccolor = 'white'\n",
    "        else:\n",
    "            ccolor = cmap(query.iloc[0]/maxval)\n",
    "            \n",
    "        countyseg = m.counties[i]\n",
    "        poly = Polygon(countyseg, facecolor=ccolor) \n",
    "        \n",
    "        if mak is not None and axak is not None and sfp == 2:\n",
    "            countyseg = mak.counties[i]\n",
    "            poly = Polygon(countyseg, facecolor=ccolor)  \n",
    "            axak.add_patch(poly)\n",
    "        elif mha is not None and axha is not None and sfp == 15:\n",
    "            countyseg = mha.counties[i]\n",
    "            poly = Polygon(countyseg, facecolor=ccolor)  \n",
    "            axha.add_patch(poly)\n",
    "        else:\n",
    "            countyseg = m.counties[i]\n",
    "            poly = Polygon(countyseg, facecolor=ccolor)  \n",
    "            ax.add_patch(poly)\n",
    "            \n",
    "    return maxval"
   ]
  },
  {
   "cell_type": "markdown",
   "metadata": {},
   "source": [
    "We also need to import an animation function from ```matplotlib``` so that we can update the state colors for each year."
   ]
  },
  {
   "cell_type": "code",
   "execution_count": 15,
   "metadata": {
    "collapsed": true
   },
   "outputs": [],
   "source": [
    "from matplotlib.animation import FuncAnimation"
   ]
  },
  {
   "cell_type": "markdown",
   "metadata": {},
   "source": [
    "Here's where we put it all together. I made a grid of subplots so that Hawaii and Alaska are scaled in size appropriately with the continental US (not perfect).\n",
    "\n",
    "The colorbar is set to be whatever the range of values for ```color_counties()``` used."
   ]
  },
  {
   "cell_type": "code",
   "execution_count": 24,
   "metadata": {
    "scrolled": false
   },
   "outputs": [],
   "source": [
    "## set up axes\n",
    "from matplotlib import rcParams\n",
    "rcParams['font.size'] = 20\n",
    "\n",
    "fig = plt.figure(figsize=(12,6))\n",
    "fig.subplots_adjust(left=0.02,right=0.85)\n",
    "ax1 = plt.subplot2grid((3,6),(0,0),rowspan=2,colspan=2)\n",
    "ax2 = plt.subplot2grid((3,6),(2,1))\n",
    "ax3 = plt.subplot2grid((3,6),(0,2),rowspan=3,colspan=4)\n",
    "ax1.axis('off')\n",
    "ax2.axis('off')\n",
    "ax3.axis('off')\n",
    "\n",
    "## draw the counties\n",
    "m1 = plot_map([48,70],[-179,-115],ax1)     # Alaska\n",
    "m2 = plot_map([18.5,22.5],[-160,-154],ax2) # Hawaii\n",
    "m3 = plot_map([22.0,50.5],[-119,-63],ax3)  # contiguous 48 states \n",
    "\n",
    "## this is where you select which specific demographic you want to query\n",
    "## a zero is selecting all available data on the demographic\n",
    "query = query_data(data,age=0,race=0,sex=0,income=0,year=2008)\n",
    "\n",
    "## select your desired color map here\n",
    "cmap = plt.cm.jet\n",
    "\n",
    "## function that will update the plot by erasing patches, re-drawing with new colors,\n",
    "## and changing the year in the plot title\n",
    "def update_year(year):\n",
    "    ax1.patches = []\n",
    "    ax2.patches = []\n",
    "    ax3.patches = []\n",
    "    \n",
    "    query = query_data(data,age=0,race=0,sex=0,income=0,year=year)\n",
    "    color_counties(query,m3,ax3,mak=m1,axak=ax1,mha=m2,axha=ax2,norm=50,cmap=cmap)\n",
    "    plt.suptitle('US Health Insurance Coverage in {}'.format(year))    \n",
    "    \n",
    "## add a colorbar\n",
    "cax = fig.add_axes([0.9, 0.15, 0.03, 0.7])\n",
    "norm = Normalize(vmin=0,vmax=50)\n",
    "cb = ColorbarBase(cax, cmap=cmap,norm=norm,orientation='vertical')\n",
    "cb.set_label('% uninsured by county')\n",
    "\n",
    "anim = FuncAnimation(fig, update_year, frames=[2008+i for i in range(8)], interval=1000, repeat_delay=2000)\n",
    "anim.save('coverage_by_year.gif',dpi=80,writer='imagemagick')"
   ]
  },
  {
   "cell_type": "markdown",
   "metadata": {},
   "source": [
    "It takes a long time to run (a couple minutes), so I'll just display it using HTML."
   ]
  },
  {
   "cell_type": "code",
   "execution_count": 28,
   "metadata": {},
   "outputs": [
    {
     "data": {
      "text/html": [
       "<img src=\"coverage_by_year.gif\">"
      ],
      "text/plain": [
       "<IPython.core.display.HTML object>"
      ]
     },
     "execution_count": 28,
     "metadata": {},
     "output_type": "execute_result"
    }
   ],
   "source": [
    "from IPython.display import HTML\n",
    "HTML('<img src=\"coverage_by_year.gif\">')"
   ]
  },
  {
   "cell_type": "code",
   "execution_count": null,
   "metadata": {
    "collapsed": true
   },
   "outputs": [],
   "source": []
  }
 ],
 "metadata": {
  "kernelspec": {
   "display_name": "Python 2",
   "language": "python",
   "name": "python2"
  },
  "language_info": {
   "codemirror_mode": {
    "name": "ipython",
    "version": 2
   },
   "file_extension": ".py",
   "mimetype": "text/x-python",
   "name": "python",
   "nbconvert_exporter": "python",
   "pygments_lexer": "ipython2",
   "version": "2.7.13"
  }
 },
 "nbformat": 4,
 "nbformat_minor": 2
}
